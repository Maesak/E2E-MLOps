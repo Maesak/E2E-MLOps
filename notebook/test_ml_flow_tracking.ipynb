{
 "cells": [
  {
   "cell_type": "markdown",
   "id": "54f23d82",
   "metadata": {},
   "source": [
    "## ML Flow tracking server"
   ]
  },
  {
   "cell_type": "code",
   "execution_count": 2,
   "id": "b369a03d",
   "metadata": {},
   "outputs": [],
   "source": [
    "import mlflow\n",
    "mlflow.set_tracking_uri(\"http://127.0.0.1:5000\")\n"
   ]
  },
  {
   "cell_type": "code",
   "execution_count": 4,
   "id": "48ac5267",
   "metadata": {},
   "outputs": [
    {
     "name": "stderr",
     "output_type": "stream",
     "text": [
      "2025/05/06 03:25:51 INFO mlflow.tracking.fluent: Experiment with name 'check localhost connection' does not exist. Creating a new experiment.\n"
     ]
    },
    {
     "name": "stdout",
     "output_type": "stream",
     "text": [
      "🏃 View run beautiful-rat-102 at: http://127.0.0.1:5000/#/experiments/597191729166705624/runs/959add4c6b5743f2b18ec4773c2d54fb\n",
      "🧪 View experiment at: http://127.0.0.1:5000/#/experiments/597191729166705624\n"
     ]
    }
   ],
   "source": [
    "mlflow.set_experiment(\"check localhost connection\")\n",
    "\n",
    "with mlflow.start_run():\n",
    "    mlflow.log_metric(\"testing\", 1)\n",
    "    mlflow.log_metric(\"testing\", 2)"
   ]
  },
  {
   "cell_type": "code",
   "execution_count": null,
   "id": "d11f540e",
   "metadata": {},
   "outputs": [],
   "source": []
  }
 ],
 "metadata": {
  "kernelspec": {
   "display_name": "mlops",
   "language": "python",
   "name": "python3"
  },
  "language_info": {
   "codemirror_mode": {
    "name": "ipython",
    "version": 3
   },
   "file_extension": ".py",
   "mimetype": "text/x-python",
   "name": "python",
   "nbconvert_exporter": "python",
   "pygments_lexer": "ipython3",
   "version": "3.12.6"
  }
 },
 "nbformat": 4,
 "nbformat_minor": 5
}
